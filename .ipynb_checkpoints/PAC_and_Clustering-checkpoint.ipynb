{
 "cells": [
  {
   "cell_type": "code",
   "execution_count": 77,
   "metadata": {},
   "outputs": [
    {
     "name": "stdout",
     "output_type": "stream",
     "text": [
      "0.6225677760101601\n",
      "5207\n"
     ]
    },
    {
     "data": {
      "text/plain": [
       "array(['House', 'Condominium', 'Townhouse', 'Apartment', 'Other', 'Loft',\n",
       "       'Guest suite', 'Guesthouse', 'In-law', 'Boutique hotel', 'Boat',\n",
       "       'Hostel', 'Bed & Breakfast', 'Dorm', 'Timeshare',\n",
       "       'Serviced apartment', 'Vacation home', 'Bungalow', 'Villa'], dtype=object)"
      ]
     },
     "execution_count": 77,
     "metadata": {},
     "output_type": "execute_result"
    }
   ],
   "source": [
    "import pandas as pd\n",
    "import random\n",
    "print(random.uniform(0, 1))\n",
    "df = pd.read_csv('Airbnb_data/listings_SanFan.csv')\n",
    "print(len(df))\n",
    "len(df['last_scraped'].unique())\n",
    "# s = pd.Series(np.random.randn())\n",
    "s\n",
    "# a = pd.DataFrame(np.random.randn(0,1), columns=list('Occupancy Rate'))\n",
    "# df['Occupancy Rate'] = random.uniform(0, 1)\n",
    "df.head()\n",
    "df['property_type'].unique()"
   ]
  },
  {
   "cell_type": "code",
   "execution_count": 74,
   "metadata": {},
   "outputs": [
    {
     "data": {
      "text/html": [
       "<div>\n",
       "<style>\n",
       "    .dataframe thead tr:only-child th {\n",
       "        text-align: right;\n",
       "    }\n",
       "\n",
       "    .dataframe thead th {\n",
       "        text-align: left;\n",
       "    }\n",
       "\n",
       "    .dataframe tbody tr th {\n",
       "        vertical-align: top;\n",
       "    }\n",
       "</style>\n",
       "<table border=\"1\" class=\"dataframe\">\n",
       "  <thead>\n",
       "    <tr style=\"text-align: right;\">\n",
       "      <th></th>\n",
       "      <th>price</th>\n",
       "      <th>accommodates</th>\n",
       "      <th>host_response_time</th>\n",
       "      <th>bathrooms</th>\n",
       "      <th>bedrooms</th>\n",
       "      <th>beds</th>\n",
       "      <th>security_deposit</th>\n",
       "      <th>cleaning_fee</th>\n",
       "      <th>guests_included</th>\n",
       "      <th>extra_people</th>\n",
       "      <th>...</th>\n",
       "      <th>review_scores_checkin</th>\n",
       "      <th>review_scores_communication</th>\n",
       "      <th>review_scores_location</th>\n",
       "      <th>review_scores_value</th>\n",
       "      <th>house_rules</th>\n",
       "      <th>amenities</th>\n",
       "      <th>bed_type</th>\n",
       "      <th>room_type</th>\n",
       "      <th>cancellation_policy</th>\n",
       "      <th>property_type</th>\n",
       "    </tr>\n",
       "  </thead>\n",
       "  <tbody>\n",
       "    <tr>\n",
       "      <th>0</th>\n",
       "      <td>$56.00</td>\n",
       "      <td>4</td>\n",
       "      <td>within an hour</td>\n",
       "      <td>1.0</td>\n",
       "      <td>1.0</td>\n",
       "      <td>2.0</td>\n",
       "      <td>$100.00</td>\n",
       "      <td>$30.00</td>\n",
       "      <td>2</td>\n",
       "      <td>$15.00</td>\n",
       "      <td>...</td>\n",
       "      <td>10.0</td>\n",
       "      <td>10.0</td>\n",
       "      <td>10.0</td>\n",
       "      <td>10.0</td>\n",
       "      <td>- Private bathroom is on the first floor (slig...</td>\n",
       "      <td>{TV,\"Cable TV\",\"Wireless Internet\",\"Air condit...</td>\n",
       "      <td>Real Bed</td>\n",
       "      <td>Private room</td>\n",
       "      <td>moderate</td>\n",
       "      <td>House</td>\n",
       "    </tr>\n",
       "    <tr>\n",
       "      <th>1</th>\n",
       "      <td>$36.00</td>\n",
       "      <td>2</td>\n",
       "      <td>within an hour</td>\n",
       "      <td>1.0</td>\n",
       "      <td>1.0</td>\n",
       "      <td>1.0</td>\n",
       "      <td>$100.00</td>\n",
       "      <td>$35.00</td>\n",
       "      <td>1</td>\n",
       "      <td>$20.00</td>\n",
       "      <td>...</td>\n",
       "      <td>10.0</td>\n",
       "      <td>10.0</td>\n",
       "      <td>10.0</td>\n",
       "      <td>10.0</td>\n",
       "      <td>1. NO SMOKING! This rule applies for inside ou...</td>\n",
       "      <td>{TV,\"Wireless Internet\",\"Air conditioning\",Kit...</td>\n",
       "      <td>Real Bed</td>\n",
       "      <td>Private room</td>\n",
       "      <td>strict</td>\n",
       "      <td>Condominium</td>\n",
       "    </tr>\n",
       "    <tr>\n",
       "      <th>2</th>\n",
       "      <td>$80.00</td>\n",
       "      <td>6</td>\n",
       "      <td>within an hour</td>\n",
       "      <td>1.5</td>\n",
       "      <td>2.0</td>\n",
       "      <td>3.0</td>\n",
       "      <td>$150.00</td>\n",
       "      <td>$65.00</td>\n",
       "      <td>4</td>\n",
       "      <td>$15.00</td>\n",
       "      <td>...</td>\n",
       "      <td>10.0</td>\n",
       "      <td>10.0</td>\n",
       "      <td>10.0</td>\n",
       "      <td>10.0</td>\n",
       "      <td>I don't ask much, just to please respect the s...</td>\n",
       "      <td>{TV,\"Cable TV\",Internet,\"Wireless Internet\",\"A...</td>\n",
       "      <td>Real Bed</td>\n",
       "      <td>Private room</td>\n",
       "      <td>moderate</td>\n",
       "      <td>Townhouse</td>\n",
       "    </tr>\n",
       "    <tr>\n",
       "      <th>3</th>\n",
       "      <td>$80.00</td>\n",
       "      <td>2</td>\n",
       "      <td>within a few hours</td>\n",
       "      <td>1.0</td>\n",
       "      <td>1.0</td>\n",
       "      <td>1.0</td>\n",
       "      <td>$100.00</td>\n",
       "      <td>$10.00</td>\n",
       "      <td>2</td>\n",
       "      <td>$10.00</td>\n",
       "      <td>...</td>\n",
       "      <td>10.0</td>\n",
       "      <td>10.0</td>\n",
       "      <td>10.0</td>\n",
       "      <td>10.0</td>\n",
       "      <td>Guests should treat my condo as their home wit...</td>\n",
       "      <td>{TV,\"Cable TV\",Internet,\"Wireless Internet\",\"A...</td>\n",
       "      <td>Real Bed</td>\n",
       "      <td>Private room</td>\n",
       "      <td>flexible</td>\n",
       "      <td>Condominium</td>\n",
       "    </tr>\n",
       "    <tr>\n",
       "      <th>4</th>\n",
       "      <td>$20.00</td>\n",
       "      <td>3</td>\n",
       "      <td>within an hour</td>\n",
       "      <td>1.0</td>\n",
       "      <td>1.0</td>\n",
       "      <td>1.0</td>\n",
       "      <td>$100.00</td>\n",
       "      <td>$50.00</td>\n",
       "      <td>1</td>\n",
       "      <td>$10.00</td>\n",
       "      <td>...</td>\n",
       "      <td>10.0</td>\n",
       "      <td>10.0</td>\n",
       "      <td>10.0</td>\n",
       "      <td>9.0</td>\n",
       "      <td>If using the kitchen please clean up after you...</td>\n",
       "      <td>{TV,\"Cable TV\",Internet,\"Wireless Internet\",\"A...</td>\n",
       "      <td>Real Bed</td>\n",
       "      <td>Private room</td>\n",
       "      <td>strict</td>\n",
       "      <td>Apartment</td>\n",
       "    </tr>\n",
       "  </tbody>\n",
       "</table>\n",
       "<p>5 rows × 27 columns</p>\n",
       "</div>"
      ],
      "text/plain": [
       "    price  accommodates  host_response_time  bathrooms  bedrooms  beds  \\\n",
       "0  $56.00             4      within an hour        1.0       1.0   2.0   \n",
       "1  $36.00             2      within an hour        1.0       1.0   1.0   \n",
       "2  $80.00             6      within an hour        1.5       2.0   3.0   \n",
       "3  $80.00             2  within a few hours        1.0       1.0   1.0   \n",
       "4  $20.00             3      within an hour        1.0       1.0   1.0   \n",
       "\n",
       "  security_deposit cleaning_fee  guests_included extra_people      ...        \\\n",
       "0          $100.00       $30.00                2       $15.00      ...         \n",
       "1          $100.00       $35.00                1       $20.00      ...         \n",
       "2          $150.00       $65.00                4       $15.00      ...         \n",
       "3          $100.00       $10.00                2       $10.00      ...         \n",
       "4          $100.00       $50.00                1       $10.00      ...         \n",
       "\n",
       "   review_scores_checkin  review_scores_communication  review_scores_location  \\\n",
       "0                   10.0                         10.0                    10.0   \n",
       "1                   10.0                         10.0                    10.0   \n",
       "2                   10.0                         10.0                    10.0   \n",
       "3                   10.0                         10.0                    10.0   \n",
       "4                   10.0                         10.0                    10.0   \n",
       "\n",
       "   review_scores_value                                        house_rules  \\\n",
       "0                 10.0  - Private bathroom is on the first floor (slig...   \n",
       "1                 10.0  1. NO SMOKING! This rule applies for inside ou...   \n",
       "2                 10.0  I don't ask much, just to please respect the s...   \n",
       "3                 10.0  Guests should treat my condo as their home wit...   \n",
       "4                  9.0  If using the kitchen please clean up after you...   \n",
       "\n",
       "                                           amenities  bed_type     room_type  \\\n",
       "0  {TV,\"Cable TV\",\"Wireless Internet\",\"Air condit...  Real Bed  Private room   \n",
       "1  {TV,\"Wireless Internet\",\"Air conditioning\",Kit...  Real Bed  Private room   \n",
       "2  {TV,\"Cable TV\",Internet,\"Wireless Internet\",\"A...  Real Bed  Private room   \n",
       "3  {TV,\"Cable TV\",Internet,\"Wireless Internet\",\"A...  Real Bed  Private room   \n",
       "4  {TV,\"Cable TV\",Internet,\"Wireless Internet\",\"A...  Real Bed  Private room   \n",
       "\n",
       "   cancellation_policy  property_type  \n",
       "0             moderate          House  \n",
       "1               strict    Condominium  \n",
       "2             moderate      Townhouse  \n",
       "3             flexible    Condominium  \n",
       "4               strict      Apartment  \n",
       "\n",
       "[5 rows x 27 columns]"
      ]
     },
     "execution_count": 74,
     "metadata": {},
     "output_type": "execute_result"
    }
   ],
   "source": [
    "import pandas as pd\n",
    "import seaborn as sns\n",
    "import matplotlib.pyplot as plt\n",
    "import numpy as np\n",
    "from scipy.stats import norm\n",
    "from sklearn.preprocessing import StandardScaler\n",
    "from scipy import stats\n",
    "import warnings\n",
    "%matplotlib inline\n",
    "df = pd.read_csv('Airbnb_data/listings_SanFan.csv')\n",
    "\n",
    "# u'zipcode',u'location_price',,u'instant_bookable', u'host_is_superhost',u'host_response_rate',\n",
    "selected_features = [u'price',u'accommodates',u'host_response_time',\n",
    "       u'bathrooms', u'bedrooms', u'beds',u'security_deposit', u'cleaning_fee', u'guests_included',\n",
    "       u'extra_people', u'minimum_nights', u'maximum_nights',u'guests_included',  \n",
    "       u'availability_365',\n",
    "       u'number_of_reviews', u'review_scores_rating',u'review_scores_cleanliness', u'review_scores_checkin',\n",
    "       u'review_scores_communication', u'review_scores_location',\n",
    "       u'review_scores_value', u'house_rules',u'amenities','bed_type', 'room_type', 'cancellation_policy', 'property_type']\n",
    "df = df.loc[:, selected_features]\n",
    "df = df.apply(lambda x:x.fillna(x.value_counts().index[0]))\n",
    "df.head()"
   ]
  },
  {
   "cell_type": "code",
   "execution_count": 13,
   "metadata": {
    "collapsed": true
   },
   "outputs": [],
   "source": [
    "# df['review_scores_rating'].describe()\n",
    "# df['zipcode'].unique()\n",
    "# def clean_zipcode(row):\n",
    "#     return row[:7]\n",
    "# df['zipcode'] = df.apply(clean_zipcode)\n",
    "# df['zipcode'].unique()\n",
    "\n",
    "# pd.to_numeric(df['zipcode'], errors = 'coerce')\n",
    "# df['zipcode'][df['zipcode'] == '60660-1448']\n",
    "# df['zipcode'] = df['zipcode'].apply(lambda x: str(x)[:6])\n",
    "# df['zipcode'].unique()\n",
    "# df['zipcode'].astype(float)\n",
    "# sns.distplot(df['zipcode'])"
   ]
  },
  {
   "cell_type": "code",
   "execution_count": 14,
   "metadata": {
    "collapsed": true
   },
   "outputs": [],
   "source": [
    "# FEES and PRICES\n",
    "df['price'] = df['price'].str.replace(\"\\$|,\", \"\").astype(float)\n",
    "df['security_deposit'] = df['security_deposit'].str.replace(\"\\$|,\", \"\").astype(float)\n",
    "df['cleaning_fee'] = df['cleaning_fee'].str.replace(\"\\$|,\", \"\").astype(float)\n",
    "df['extra_people'] = df['extra_people'].str.replace(\"\\$|,\", \"\").astype(float)\n",
    "df['availability'] = df['availability_365'] / 365"
   ]
  },
  {
   "cell_type": "code",
   "execution_count": 15,
   "metadata": {
    "collapsed": true
   },
   "outputs": [],
   "source": [
    "# remove rows that have 'NaN'in key features\n",
    "# solve NaN cells in unimportant attributes\n",
    "\n",
    "# remove_criteria = df['price'].isnull() | df['zipcode'].isnull()\n",
    "# df = df[-remove_criteria]"
   ]
  },
  {
   "cell_type": "code",
   "execution_count": 16,
   "metadata": {
    "collapsed": true
   },
   "outputs": [],
   "source": [
    "# # APARTMENT TYPES\n",
    "# enc = LabelEncoder()\n",
    "# room_type = enc.fit( df['room_type'].values )\n",
    "# df['room_type'] = room_type.transform(df['room_type'].values)"
   ]
  },
  {
   "cell_type": "code",
   "execution_count": 17,
   "metadata": {
    "collapsed": true
   },
   "outputs": [],
   "source": [
    "# HOUSE RULES\n",
    "house_rules = df['house_rules'].str.lower()\n",
    "\n",
    "smoking = house_rules.str.contains(\"smoke|smoking\", na= False)\n",
    "df.loc[:, 'smoking'] = - smoking # False: No smoking allowed\n",
    "\n",
    "pet = house_rules.str.contains(\"pet\", na=False)\n",
    "df.loc[:, 'pet'] = - pet\n",
    "\n",
    "party = house_rules.str.contains(\"party|parties\", na=False)\n",
    "df.loc[:, 'party'] = - party\n",
    "\n",
    "guest = house_rules.str.contains(\"guest|guests\", na=False)\n",
    "df.loc[:, 'guest'] = - guest\n",
    "\n",
    "df = df.drop(['house_rules'], axis = 1)\n"
   ]
  },
  {
   "cell_type": "code",
   "execution_count": 18,
   "metadata": {
    "collapsed": true,
    "scrolled": false
   },
   "outputs": [],
   "source": [
    "import re\n",
    "# AMENITIES\n",
    "amenities = list(df['amenities'])\n",
    "total = ','.join(amenities)\n",
    "total = total.replace(\"{\", \"\").replace(\"}\",\"\").replace(\"\\\"\", \"\").split(\",\")\n",
    "amenity_items = list(set(total))\n",
    "amenity_items = list(filter(None, amenity_items))\n",
    "for item in amenity_items:\n",
    "    if re.match(r'translation',item):\n",
    "        amenity_items.remove(item)"
   ]
  },
  {
   "cell_type": "code",
   "execution_count": 19,
   "metadata": {
    "collapsed": true
   },
   "outputs": [],
   "source": [
    "# Turn Amenities into OneHotEncoder\n",
    "from sklearn.preprocessing import LabelEncoder, OneHotEncoder\n",
    "\n",
    "amenities = list(df['amenities'])\n",
    "new_table = pd.DataFrame(index = df.reset_index().values[:,0], columns = amenity_items).fillna(0)\n",
    "\n",
    "for i in range(len(amenities)):\n",
    "    for item in amenity_items:\n",
    "        if item in amenities[i]:\n",
    "            new_table.set_value(i, item, 1)\n",
    "\n",
    "sum_table = np.array(new_table.sum())\n",
    "ind = (-sum_table).argsort()[:60]\n",
    "common_amenities = list(new_table.sum().iloc[ind].index)\n",
    "df = df.drop(['amenities'], axis = 1)\n",
    "df = pd.concat([df, new_table[common_amenities]], axis = 1)"
   ]
  },
  {
   "cell_type": "code",
   "execution_count": 20,
   "metadata": {
    "collapsed": true
   },
   "outputs": [],
   "source": [
    "columns = ['bed_type', 'room_type', 'cancellation_policy', 'property_type', 'host_response_time']\n",
    "for column in columns:  \n",
    "    unique_values = list(df[column].unique())\n",
    "    column_list = list(df[column])\n",
    "    new_table = pd.DataFrame(index = df.reset_index().values[:,0], columns = unique_values).fillna(0)\n",
    "    \n",
    "    for i in range(len( column_list )):\n",
    "        for item in unique_values:\n",
    "            if item in column_list[i]:\n",
    "                new_table.set_value(i, item, 1)  \n",
    "    df = pd.concat( [df, new_table], axis = 1)\n",
    "    df = df.drop([column], axis = 1)         \n",
    "# df.columns.values"
   ]
  },
  {
   "cell_type": "code",
   "execution_count": 21,
   "metadata": {},
   "outputs": [
    {
     "data": {
      "text/html": [
       "<div>\n",
       "<style>\n",
       "    .dataframe thead tr:only-child th {\n",
       "        text-align: right;\n",
       "    }\n",
       "\n",
       "    .dataframe thead th {\n",
       "        text-align: left;\n",
       "    }\n",
       "\n",
       "    .dataframe tbody tr th {\n",
       "        vertical-align: top;\n",
       "    }\n",
       "</style>\n",
       "<table border=\"1\" class=\"dataframe\">\n",
       "  <thead>\n",
       "    <tr style=\"text-align: right;\">\n",
       "      <th></th>\n",
       "      <th>price</th>\n",
       "      <th>accommodates</th>\n",
       "      <th>bathrooms</th>\n",
       "      <th>bedrooms</th>\n",
       "      <th>beds</th>\n",
       "      <th>security_deposit</th>\n",
       "      <th>cleaning_fee</th>\n",
       "      <th>guests_included</th>\n",
       "      <th>extra_people</th>\n",
       "      <th>minimum_nights</th>\n",
       "      <th>...</th>\n",
       "      <th>Dorm</th>\n",
       "      <th>Timeshare</th>\n",
       "      <th>Serviced apartment</th>\n",
       "      <th>Vacation home</th>\n",
       "      <th>Bungalow</th>\n",
       "      <th>Villa</th>\n",
       "      <th>within an hour</th>\n",
       "      <th>within a few hours</th>\n",
       "      <th>within a day</th>\n",
       "      <th>a few days or more</th>\n",
       "    </tr>\n",
       "  </thead>\n",
       "  <tbody>\n",
       "    <tr>\n",
       "      <th>0</th>\n",
       "      <td>56.0</td>\n",
       "      <td>4</td>\n",
       "      <td>1.0</td>\n",
       "      <td>1.0</td>\n",
       "      <td>2.0</td>\n",
       "      <td>100.0</td>\n",
       "      <td>30.0</td>\n",
       "      <td>2</td>\n",
       "      <td>15.0</td>\n",
       "      <td>2</td>\n",
       "      <td>...</td>\n",
       "      <td>0</td>\n",
       "      <td>0</td>\n",
       "      <td>0</td>\n",
       "      <td>0</td>\n",
       "      <td>0</td>\n",
       "      <td>0</td>\n",
       "      <td>1</td>\n",
       "      <td>0</td>\n",
       "      <td>0</td>\n",
       "      <td>0</td>\n",
       "    </tr>\n",
       "    <tr>\n",
       "      <th>1</th>\n",
       "      <td>36.0</td>\n",
       "      <td>2</td>\n",
       "      <td>1.0</td>\n",
       "      <td>1.0</td>\n",
       "      <td>1.0</td>\n",
       "      <td>100.0</td>\n",
       "      <td>35.0</td>\n",
       "      <td>1</td>\n",
       "      <td>20.0</td>\n",
       "      <td>1</td>\n",
       "      <td>...</td>\n",
       "      <td>0</td>\n",
       "      <td>0</td>\n",
       "      <td>0</td>\n",
       "      <td>0</td>\n",
       "      <td>0</td>\n",
       "      <td>0</td>\n",
       "      <td>1</td>\n",
       "      <td>0</td>\n",
       "      <td>0</td>\n",
       "      <td>0</td>\n",
       "    </tr>\n",
       "    <tr>\n",
       "      <th>2</th>\n",
       "      <td>80.0</td>\n",
       "      <td>6</td>\n",
       "      <td>1.5</td>\n",
       "      <td>2.0</td>\n",
       "      <td>3.0</td>\n",
       "      <td>150.0</td>\n",
       "      <td>65.0</td>\n",
       "      <td>4</td>\n",
       "      <td>15.0</td>\n",
       "      <td>1</td>\n",
       "      <td>...</td>\n",
       "      <td>0</td>\n",
       "      <td>0</td>\n",
       "      <td>0</td>\n",
       "      <td>0</td>\n",
       "      <td>0</td>\n",
       "      <td>0</td>\n",
       "      <td>1</td>\n",
       "      <td>0</td>\n",
       "      <td>0</td>\n",
       "      <td>0</td>\n",
       "    </tr>\n",
       "    <tr>\n",
       "      <th>3</th>\n",
       "      <td>80.0</td>\n",
       "      <td>2</td>\n",
       "      <td>1.0</td>\n",
       "      <td>1.0</td>\n",
       "      <td>1.0</td>\n",
       "      <td>100.0</td>\n",
       "      <td>10.0</td>\n",
       "      <td>2</td>\n",
       "      <td>10.0</td>\n",
       "      <td>2</td>\n",
       "      <td>...</td>\n",
       "      <td>0</td>\n",
       "      <td>0</td>\n",
       "      <td>0</td>\n",
       "      <td>0</td>\n",
       "      <td>0</td>\n",
       "      <td>0</td>\n",
       "      <td>0</td>\n",
       "      <td>1</td>\n",
       "      <td>0</td>\n",
       "      <td>0</td>\n",
       "    </tr>\n",
       "    <tr>\n",
       "      <th>4</th>\n",
       "      <td>20.0</td>\n",
       "      <td>3</td>\n",
       "      <td>1.0</td>\n",
       "      <td>1.0</td>\n",
       "      <td>1.0</td>\n",
       "      <td>100.0</td>\n",
       "      <td>50.0</td>\n",
       "      <td>1</td>\n",
       "      <td>10.0</td>\n",
       "      <td>3</td>\n",
       "      <td>...</td>\n",
       "      <td>0</td>\n",
       "      <td>0</td>\n",
       "      <td>0</td>\n",
       "      <td>0</td>\n",
       "      <td>0</td>\n",
       "      <td>0</td>\n",
       "      <td>1</td>\n",
       "      <td>0</td>\n",
       "      <td>0</td>\n",
       "      <td>0</td>\n",
       "    </tr>\n",
       "  </tbody>\n",
       "</table>\n",
       "<p>5 rows × 121 columns</p>\n",
       "</div>"
      ],
      "text/plain": [
       "   price  accommodates  bathrooms  bedrooms  beds  security_deposit  \\\n",
       "0   56.0             4        1.0       1.0   2.0             100.0   \n",
       "1   36.0             2        1.0       1.0   1.0             100.0   \n",
       "2   80.0             6        1.5       2.0   3.0             150.0   \n",
       "3   80.0             2        1.0       1.0   1.0             100.0   \n",
       "4   20.0             3        1.0       1.0   1.0             100.0   \n",
       "\n",
       "   cleaning_fee  guests_included  extra_people  minimum_nights  \\\n",
       "0          30.0                2          15.0               2   \n",
       "1          35.0                1          20.0               1   \n",
       "2          65.0                4          15.0               1   \n",
       "3          10.0                2          10.0               2   \n",
       "4          50.0                1          10.0               3   \n",
       "\n",
       "          ...          Dorm  Timeshare  Serviced apartment  Vacation home  \\\n",
       "0         ...             0          0                   0              0   \n",
       "1         ...             0          0                   0              0   \n",
       "2         ...             0          0                   0              0   \n",
       "3         ...             0          0                   0              0   \n",
       "4         ...             0          0                   0              0   \n",
       "\n",
       "   Bungalow  Villa  within an hour  within a few hours  within a day  \\\n",
       "0         0      0               1                   0             0   \n",
       "1         0      0               1                   0             0   \n",
       "2         0      0               1                   0             0   \n",
       "3         0      0               0                   1             0   \n",
       "4         0      0               1                   0             0   \n",
       "\n",
       "   a few days or more  \n",
       "0                   0  \n",
       "1                   0  \n",
       "2                   0  \n",
       "3                   0  \n",
       "4                   0  \n",
       "\n",
       "[5 rows x 121 columns]"
      ]
     },
     "execution_count": 21,
     "metadata": {},
     "output_type": "execute_result"
    }
   ],
   "source": [
    "# df.dtypes\n",
    "df.head()"
   ]
  },
  {
   "cell_type": "code",
   "execution_count": 22,
   "metadata": {
    "collapsed": true
   },
   "outputs": [],
   "source": [
    "# import pysal\n",
    "# from pysal.cg.kdtree import KDTree    \n",
    "\n",
    "# # locations = np.array(df[['longitude','latitude']])\n",
    "# tree = KDTree(locations, distance_metric='Arc', radius=pysal.cg.RADIUS_EARTH_MILES)\n",
    "# current_point = (-87.68493431,41.97654639)\n",
    "# # get all points within 4 mile of 'current_point'\n",
    "# indices = tree.query_ball_point(current_point, 3)\n",
    "# print(len(indices))"
   ]
  },
  {
   "cell_type": "code",
   "execution_count": 39,
   "metadata": {},
   "outputs": [
    {
     "name": "stdout",
     "output_type": "stream",
     "text": [
      "[ 0.06955685  0.06390113  0.03772548  0.0358486   0.02982786  0.02430284\n",
      "  0.0202891   0.01951773  0.01782659  0.01724224  0.01601968  0.01571845\n",
      "  0.01439307  0.0138584   0.01360185  0.01262146  0.01248487  0.01210386\n",
      "  0.01167235  0.01151145  0.01054946  0.01033443  0.01001697  0.00994074\n",
      "  0.00971525  0.00964512  0.00939277  0.00921558  0.00914747  0.00901881\n",
      "  0.00886106  0.00879266  0.00874752  0.00857431  0.00854222  0.0084876\n",
      "  0.00841666  0.00840573  0.00836958  0.00828562  0.00820728  0.00811359\n",
      "  0.00809222  0.00803643  0.00800392  0.00789796  0.00776689  0.00774979\n",
      "  0.00754573  0.00745028]\n"
     ]
    },
    {
     "name": "stderr",
     "output_type": "stream",
     "text": [
      "/Library/Frameworks/Python.framework/Versions/3.6/lib/python3.6/site-packages/sklearn/utils/validation.py:429: DataConversionWarning: Data with input dtype object was converted to float64 by the scale function.\n",
      "  warnings.warn(msg, _DataConversionWarning)\n"
     ]
    },
    {
     "data": {
      "text/plain": [
       "array([[ 0.26138206,  0.14548083, -0.63637778, ...,  0.35680301,\n",
       "         0.03976972,  0.05759452],\n",
       "       [-0.22709137,  0.27140468,  0.89508945, ...,  0.21978954,\n",
       "         0.64203608, -1.61102112],\n",
       "       [ 2.80362355, -2.91100443, -1.96838383, ...,  1.65568077,\n",
       "         2.01563059, -1.1795769 ],\n",
       "       ..., \n",
       "       [-0.48484353,  0.64258867, -0.01399543, ...,  0.63819362,\n",
       "         0.50669601, -0.16343308],\n",
       "       [-1.39986804,  1.16758679, -2.57625097, ...,  1.27828247,\n",
       "        -2.71212989,  0.13615798],\n",
       "       [-0.66717247, -0.02974648,  1.73044363, ..., -0.87435784,\n",
       "        -0.3641465 ,  0.3514256 ]])"
      ]
     },
     "execution_count": 39,
     "metadata": {},
     "output_type": "execute_result"
    },
    {
     "data": {
      "image/png": "[encoded data removed]",
      "text/plain": [
       "<matplotlib.figure.Figure at 0x10c6bb908>"
      ]
     },
     "metadata": {},
     "output_type": "display_data"
    }
   ],
   "source": [
    "import numpy as np\n",
    "from sklearn import preprocessing\n",
    "from sklearn.decomposition import PCA\n",
    "# df.drop(['longitude','latitude'], axis=1, inplace=True)\n",
    "X = np.array(df.drop(['price'], axis = 1))\n",
    "X_scaled = preprocessing.scale(X)\n",
    "y =df['price']\n",
    "pca = PCA(n_components=50)\n",
    "X_scaled = pca.fit_transform(X_scaled)\n",
    "print(pca.explained_variance_ratio_)\n",
    "plt.plot(np.cumsum(pca.explained_variance_ratio_))\n",
    "plt.title('Principal Component Analysis to reduce 121 to 50 variables')\n",
    "plt.xlabel('number of components')\n",
    "plt.ylabel('cumulative explained variance')\n",
    "X_scaled"
   ]
  },
  {
   "cell_type": "code",
   "execution_count": 38,
   "metadata": {},
   "outputs": [
    {
     "name": "stdout",
     "output_type": "stream",
     "text": [
      "[0 0 1 ..., 0 0 0]\n"
     ]
    },
    {
     "data": {
      "image/png": "[encoded data removed]",
      "text/plain": [
       "<matplotlib.figure.Figure at 0x10f0af7b8>"
      ]
     },
     "metadata": {},
     "output_type": "display_data"
    }
   ],
   "source": [
    "from sklearn.cluster import KMeans\n",
    "y_pred = KMeans(n_clusters=3, random_state=170).fit_predict(X_scaled)\n",
    "print(y_pred)\n",
    "plt.scatter(X_scaled[:, 0], X_scaled[:, 1], c=y_pred)\n",
    "plt.title(\"kMeans Clustering on PCA_transformed X variables\")\n",
    "plt.xlabel('Principal Component 1')\n",
    "plt.ylabel('Principal Component 2')\n",
    "plt.show()"
   ]
  },
  {
   "cell_type": "code",
   "execution_count": 52,
   "metadata": {},
   "outputs": [
    {
     "data": {
      "text/plain": [
       "(array([   2,    8,   10, ..., 5200, 5201, 5202]),)"
      ]
     },
     "execution_count": 52,
     "metadata": {},
     "output_type": "execute_result"
    }
   ],
   "source": [
    "# group1 = y_pred.index(y_pred == 0)\n",
    "y_pred\n",
    "ind1= np.where(y_pred == 1)\n",
    "ind1\n",
    "# group1 = X_scaled[ind1,:]\n",
    "# group1.shape"
   ]
  },
  {
   "cell_type": "code",
   "execution_count": 25,
   "metadata": {
    "collapsed": true
   },
   "outputs": [],
   "source": [
    "# from sklearn.model_selection import GridSearchCV\n",
    "# from sklearn.ensemble import RandomForestRegressor\n",
    "# from sklearn.preprocessing import Imputer\n",
    "# from sklearn.ensemble import ExtraTreesClassifier\n",
    "# from sklearn.model_selection import train_test_split\n",
    "# from sklearn.model_selection import cross_val_score\n",
    "\n",
    "# cluster_data=df.ix[:,2:]\n",
    "# X=cluster_data\n",
    "# y=df.ix[:,'price']\n",
    "\n",
    "# X_train, X_test, y_train, y_test = train_test_split(X, y, test_size=0.2, random_state=0)\n",
    "\n",
    "# tunedParameters=[{'n_estimators':range(50,100,10)}]\n",
    "# clf=GridSearchCV(RandomForestRegressor(n_jobs = -1, criterion='mse'), param_grid = tunedParameters,cv=10)\n",
    "\n",
    "# clf.fit(X, y)\n",
    "\n",
    "# means = clf.cv_results_['mean_test_score']\n",
    "# stds = clf.cv_results_['std_test_score']\n",
    "# for mean, std, params in zip(means, stds, clf.cv_results_['params']):\n",
    "#     print(\"%0.3f (+/-%0.03f) for %r\" % (mean, std * 2, params))"
   ]
  },
  {
   "cell_type": "code",
   "execution_count": 26,
   "metadata": {
    "collapsed": true
   },
   "outputs": [],
   "source": [
    "# X=cluster_data\n",
    "# y=df.ix[:,'price']\n",
    "# from collections import OrderedDict\n",
    "# from sklearn.ensemble import RandomForestClassifier, ExtraTreesClassifier\n",
    "# ensemble_clfs = [(\"RandomForestClassifier, max_features=None\",\n",
    "#         RandomForestClassifier(warm_start=True, max_features=None,\n",
    "#                                oob_score=True,\n",
    "#                                random_state=0))]\n",
    "\n",
    "# # Map a classifier name to a list of (<n_estimators>, <error rate>) pairs.\n",
    "# error_rate = OrderedDict((label, []) for label, _ in ensemble_clfs)\n",
    "\n",
    "# # Range of `n_estimators` values to explore.\n",
    "# min_estimators = 10\n",
    "# max_estimators = 100\n",
    "\n",
    "# for label, clf in ensemble_clfs:\n",
    "#     for i in range(min_estimators, max_estimators + 1):\n",
    "#         clf.set_params(n_estimators=i)\n",
    "#         clf.fit(X, y)\n",
    "\n",
    "#         # Record the OOB error for each `n_estimators=i` setting.\n",
    "#         oob_error = 1 - clf.oob_score_\n",
    "#         error_rate[label].append((i, oob_error))\n",
    "\n",
    "# # Generate the \"OOB error rate\" vs. \"n_estimators\" plot.\n",
    "# for label, clf_err in error_rate.items():\n",
    "#     xs, ys = zip(*clf_err)\n",
    "#     plt.plot(xs, ys, label=label)\n",
    "\n",
    "# plt.xlim(min_estimators, max_estimators)\n",
    "# plt.xlabel(\"n_estimators\")\n",
    "# plt.ylabel(\"OOB error rate\")\n",
    "# plt.legend(loc=\"upper right\")\n",
    "# plt.show()\n",
    "\n",
    "# from sklearn.ensemble import RandomForestRegressor\n",
    "\n",
    "# X=cluster_data\n",
    "# y=df.ix[:,'price']\n",
    "# tunedParameters = [{'n_estimators':100}]\n",
    "\n",
    "# clf2 = RandomForestRegressor(n_jobs = 1, criterion='mse', n_estimators=100)\n",
    "# #Fit Model\n",
    "# clf2.fit(X, y)"
   ]
  },
  {
   "cell_type": "code",
   "execution_count": 27,
   "metadata": {
    "collapsed": true
   },
   "outputs": [],
   "source": [
    "# FeatImp = pd.DataFrame({'feature': list(X.columns), 'importance': list(clf2.feature_importances_)})\n",
    "# FeatImp = FeatImp.sort_values('importance', ascending = False)\n",
    "# #Set Index To Field You want to Sort Bar Chart By\n",
    "# FeatImp = FeatImp.set_index('feature')\n",
    "# FeatImp.head(100)\n",
    "# FeatImp.to_csv('feature_imp.csv')"
   ]
  },
  {
   "cell_type": "code",
   "execution_count": 28,
   "metadata": {},
   "outputs": [
    {
     "ename": "NameError",
     "evalue": "name 'FeatImp' is not defined",
     "output_type": "error",
     "traceback": [
      "\u001b[0;31m---------------------------------------------------------------------------\u001b[0m",
      "\u001b[0;31mNameError\u001b[0m                                 Traceback (most recent call last)",
      "\u001b[0;32m<ipython-input-28-a8a59fa576a8>\u001b[0m in \u001b[0;36m<module>\u001b[0;34m()\u001b[0m\n\u001b[0;32m----> 1\u001b[0;31m \u001b[0mFeatImp\u001b[0m\u001b[0;34m.\u001b[0m\u001b[0mindex\u001b[0m\u001b[0;34m[\u001b[0m\u001b[0;36m0\u001b[0m\u001b[0;34m:\u001b[0m\u001b[0;36m30\u001b[0m\u001b[0;34m]\u001b[0m\u001b[0;34m\u001b[0m\u001b[0m\n\u001b[0m",
      "\u001b[0;31mNameError\u001b[0m: name 'FeatImp' is not defined"
     ]
    }
   ],
   "source": [
    "FeatImp.index[0:30]"
   ]
  },
  {
   "cell_type": "code",
   "execution_count": null,
   "metadata": {
    "collapsed": true
   },
   "outputs": [],
   "source": [
    "FeatImp['importance'].values[0:30]"
   ]
  },
  {
   "cell_type": "code",
   "execution_count": null,
   "metadata": {
    "collapsed": true
   },
   "outputs": [],
   "source": [
    "import matplotlib.pyplot as plt\n",
    "plt.figure()\n",
    "\n",
    "plt.title(\"Feature Importance\")\n",
    "y_pos = np.arange(len(FeatImp.index[0:30]))\n",
    "plt.bar(y_pos,FeatImp['importance'].values[0:30])\n",
    "plt.xticks(y_pos, FeatImp.index[0:30],rotation='vertical')\n",
    "plt.show()"
   ]
  },
  {
   "cell_type": "code",
   "execution_count": null,
   "metadata": {
    "collapsed": true
   },
   "outputs": [],
   "source": [
    "# import matplotlib.pyplot as plt\n",
    "\n",
    "# fig=plt.figure(figsize=(17,10))\n",
    "# # df['price'] = df.price.str.replace(\"\\$|,\", \"\").astype(float)\n",
    "# # df['price'].hist()\n",
    "# sns.distplot(df['price'])\n",
    "# # plt.show()\n",
    "# mean_price = df.price.iloc[:5].mean()\n",
    "# mean_price\n",
    "# df['host_acceptance_rate'].head()"
   ]
  },
  {
   "cell_type": "code",
   "execution_count": null,
   "metadata": {
    "collapsed": true
   },
   "outputs": [],
   "source": [
    "# df['review_scores_rating'].fillna(0, inplace=True)\n",
    "# df['review_scores_rating'].dropna(axis=0, inplace=True)\n",
    "# sns.distplot(df['review_scores_rating'])\n"
   ]
  },
  {
   "cell_type": "code",
   "execution_count": null,
   "metadata": {
    "collapsed": true
   },
   "outputs": [],
   "source": [
    "# Correlation Plot\n",
    "# var = 'review_scores_rating'\n",
    "# data = pd.concat([df['price'], df[var]], axis=1)\n",
    "# data.plot.scatter(x=var, y='price')\n",
    "# data.plot.scatter(x=var, y='price', ylim=(0,1500))"
   ]
  },
  {
   "cell_type": "code",
   "execution_count": null,
   "metadata": {
    "collapsed": true
   },
   "outputs": [],
   "source": [
    "# cluster by locations\n",
    "# import numpy as np\n",
    "# from mpl_toolkits.mplot3d import Axes3D\n",
    "# from sklearn.cluster import KMeans\n",
    "\n",
    "# def plot_3D_clusters(X, k):\n",
    "#     \"\"\"Plot 3 attributes in dataset to explore natural clusters within data\"\"\"\n",
    "#     estimators = {'k_means_3': KMeans(n_clusters=k)}\n",
    "#     fignum = 1\n",
    "#     for name, est in estimators.items():\n",
    "#         fig = plt.figure(fignum, figsize=(4, 3))\n",
    "#         plt.clf()\n",
    "#         ax = Axes3D(fig, rect=[0, 0, .95, 1], elev=48, azim=134)\n",
    "#         plt.cla()\n",
    "#         est.fit(X)\n",
    "#         labels = est.labels_\n",
    "#         # Change the 2nd column in X[:,_] to choose attributes for plotting\n",
    "#         ax.scatter(X[:,0], X[:,1], X[:,2], c=labels.astype(np.float),edgecolor='k')\n",
    "#         ax.w_xaxis.set_ticklabels([])\n",
    "#         ax.w_yaxis.set_ticklabels([])\n",
    "#         ax.w_zaxis.set_ticklabels([])\n",
    "#         ax.set_xlabel('latitude')\n",
    "#         ax.set_ylabel('longitude')\n",
    "#         ax.set_zlabel('price')\n",
    "#         fignum = fignum + 1\n",
    "#     plt.show()\n",
    "# # change the n\n",
    "# df = pd.read_csv('Airbnb_data/listings_SanFan.csv')\n",
    "# df['price'] = df['price'].str.replace(\"\\$|,\", \"\").astype(float)\n",
    "# X = np.array(df[['latitude', 'longitude', 'price']])\n",
    "# plot_3D_clusters(X, 4)"
   ]
  },
  {
   "cell_type": "code",
   "execution_count": null,
   "metadata": {
    "collapsed": true
   },
   "outputs": [],
   "source": [
    "# Transformation\n",
    "# right skewed: log transform\n",
    "# left skewed: power transform\n"
   ]
  },
  {
   "cell_type": "code",
   "execution_count": null,
   "metadata": {
    "collapsed": true
   },
   "outputs": [],
   "source": [
    "from sklearn.neighbors import KNeighborRegressor\n",
    "# Create KNN model: 5 closest neighbors\n",
    "knn = KNeighborRegressor(algorithm='brute', n_neighbors = 5)\n",
    "cols = ['accommodates', 'bedrooms', 'bathrooms', 'beds']\n",
    "knn.fit(norm_train_df[col], norm_train_df['price'])\n",
    "features_predictions = knn.predict(norm_test_df[cols])\n",
    "features_mse = mean_squared_error(norm_test_df['price'], features_predictions)\n",
    "features_rmse = features_mse ** (1/2)"
   ]
  }
 ],
 "metadata": {
  "kernelspec": {
   "display_name": "Python 3",
   "language": "python",
   "name": "python3"
  },
  "language_info": {
   "codemirror_mode": {
    "name": "ipython",
    "version": 3
   },
   "file_extension": ".py",
   "mimetype": "text/x-python",
   "name": "python",
   "nbconvert_exporter": "python",
   "pygments_lexer": "ipython3",
   "version": "3.6.6"
  }
 },
 "nbformat": 4,
 "nbformat_minor": 2
}
